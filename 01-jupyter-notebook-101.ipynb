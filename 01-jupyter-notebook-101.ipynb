{
 "cells": [
  {
   "cell_type": "markdown",
   "metadata": {
    "id": "IVfTpF_AJt2A"
   },
   "source": [
    "## Introduction"
   ]
  },
  {
   "cell_type": "markdown",
   "metadata": {
    "id": "Fd3HYJnQJt2D"
   },
   "source": [
    "Let's build up from the basics: what is a Jupyter Notebook? A notebook is a document made of cells. You can write in some of them (markdown cells) or you can perform calculations in Python (code cells) and run them like this:"
   ]
  },
  {
   "cell_type": "code",
   "execution_count": 1,
   "metadata": {
    "id": "71OT9dnFJt2D",
    "tags": []
   },
   "outputs": [
    {
     "data": {
      "text/plain": [
       "3"
      ]
     },
     "execution_count": 1,
     "metadata": {},
     "output_type": "execute_result"
    }
   ],
   "source": [
    "1+2"
   ]
  },
  {
   "cell_type": "markdown",
   "metadata": {
    "id": "Dxht2cEJJt2E"
   },
   "source": [
    "Cool, huh? This combination of prose and code makes Jupyter Notebook ideal for experimentation: we can see the rationale for each experiment, the code, and the results in one comprehensive document. \n",
    "\n",
    "Try it yourself now. Click \"Copy & Edit\" in the top right to get your own editable version of this notebook, then click the cell above and hit `Shift`-`Enter`.\n",
    "\n",
    "Other renowned institutions in academia and industry use Jupyter Notebook, including Google, Microsoft, IBM, Bloomberg, Berkeley and NASA among others. Even Nobel-winning economists [use Jupyter Notebooks](https://paulromer.net/jupyter-mathematica-and-the-future-of-the-research-paper/)  for their experiments and some suggest that Jupyter Notebooks will be the [new format for research papers](https://www.theatlantic.com/science/archive/2018/04/the-scientific-paper-is-obsolete/556676/).\n"
   ]
  },
  {
   "cell_type": "markdown",
   "metadata": {
    "id": "dFEJ3KFGJt2F"
   },
   "source": [
    "## Writing"
   ]
  },
  {
   "cell_type": "markdown",
   "metadata": {
    "id": "t0dnRH8eJt2F"
   },
   "source": [
    "A type of cell in which you can write text is called a _Markdown cell_. [_Markdown_](https://en.wikipedia.org/wiki/Markdown) is a very popular markup language. To specify that a cell is Markdown you need to click in the drop-down menu in the toolbar and select Markdown.\n",
    "\n",
    "Click the '+ Markdown' button below. Now you can type your first Markdown cell. Write 'My first markdown cell' and press run.\n",
    "\n",
    "You should see something like this:"
   ]
  },
  {
   "cell_type": "markdown",
   "metadata": {
    "id": "8Hg72EMeJt2F"
   },
   "source": [
    "My first markdown cell"
   ]
  },
  {
   "cell_type": "markdown",
   "metadata": {
    "id": "SIb77GHjJt2F"
   },
   "source": [
    "Now try making your first _Code_ cell: follow the same steps as before but click \"+ Code\". Type something like 3/2. You should see '1.5' as output."
   ]
  },
  {
   "cell_type": "code",
   "execution_count": null,
   "metadata": {
    "execution": {
     "iopub.execute_input": "2022-04-24T20:01:13.917666Z",
     "iopub.status.busy": "2022-04-24T20:01:13.917336Z",
     "iopub.status.idle": "2022-04-24T20:01:13.92343Z",
     "shell.execute_reply": "2022-04-24T20:01:13.922665Z",
     "shell.execute_reply.started": "2022-04-24T20:01:13.917621Z"
    },
    "id": "eDaZf1yqJt2G"
   },
   "outputs": [],
   "source": [
    "3/2"
   ]
  },
  {
   "cell_type": "markdown",
   "metadata": {
    "id": "SMFke2WNJt2G"
   },
   "source": [
    "## Modes"
   ]
  },
  {
   "cell_type": "markdown",
   "metadata": {
    "id": "nnNzzoiTJt2G"
   },
   "source": [
    "If you made a mistake in your *Markdown* cell and you have already run it, you will notice that you cannot edit it just by clicking on it. This is because you are in **Command Mode**. Jupyter Notebooks have two distinct modes:\n",
    "\n",
    "- Edit Mode:: Allows you to edit a cell's content.\n",
    "\n",
    "- Command Mode:: Allows you to edit the notebook as a whole and use keyboard shortcuts but not edit a cell's content. \n",
    "\n",
    "You can toggle between these two by either pressing <kbd>ESC</kbd> and <kbd>Enter</kbd> or clicking outside a cell or inside it (you need to double click if it's a Markdown cell). You can always tell which mode you're on: the current cell will have a green border in **Edit Mode** and a blue border in **Command Mode**. Try it!\n"
   ]
  },
  {
   "cell_type": "markdown",
   "metadata": {
    "id": "XpNd8rWkJt2G"
   },
   "source": [
    "## Other Important Considerations"
   ]
  },
  {
   "cell_type": "markdown",
   "metadata": {
    "id": "e4JBhTBlJt2H"
   },
   "source": [
    "Your notebook is autosaved every 120 seconds. If you want to manually save it you can just press the \"save version\" button on the upper right corner.\n",
    "\n",
    "To know if your *kernel* (the Python engine executing your instructions behind the scenes) is computing or not, you can check the icon to the left of your cell. If the dot spinning, it means that the kernel is working. If not, it is idle.\n",
    "\n",
    "There are a couple of shortcuts you must know about which we use **all** the time (always in **Command Mode**). These are:\n",
    "\n",
    "- <kbd>Shift</kbd>+<kbd>Enter</kbd>: Run the code or markdown on a cell\n",
    "- <kbd>Up Arrow</kbd> / <kbd>Down Arrow</kbd>: Toggle across cells\n",
    "- <kbd>b</kbd>: Create new cell underneath this one\n",
    "- <kbd>0</kbd>+<kbd>0</kbd>: Reset Kernel\n",
    "\n",
    "You can find more shortcuts by typing <kbd>h</kbd> (for help).\n",
    "\n",
    "You may need to use shell commands, like `ls` or `cat` in a Jupyter Notebook environment. That is very easy to do: just type `!` before you shell command, like so:"
   ]
  },
  {
   "cell_type": "code",
   "execution_count": null,
   "metadata": {
    "execution": {
     "iopub.execute_input": "2022-04-24T20:05:01.751028Z",
     "iopub.status.busy": "2022-04-24T20:05:01.750722Z",
     "iopub.status.idle": "2022-04-24T20:05:02.49447Z",
     "shell.execute_reply": "2022-04-24T20:05:02.493731Z",
     "shell.execute_reply.started": "2022-04-24T20:05:01.750992Z"
    },
    "id": "sWyOSFhdJt2H"
   },
   "outputs": [],
   "source": [
    "!pwd"
   ]
  },
  {
   "cell_type": "markdown",
   "metadata": {
    "id": "dCmEUCrjJt2H"
   },
   "source": [
    "That's it. This is all you need to know to use Jupyter Notebooks. That said, we have more tips and tricks below... There's a lot you can do with notebooks -- in fact, we published [a whole book](https://www.amazon.com/Deep-Learning-Coders-fastai-PyTorch/dp/1492045527) written entirely as notebooks!"
   ]
  },
  {
   "cell_type": "markdown",
   "metadata": {
    "id": "BDMZNho1Jt2H"
   },
   "source": [
    "## Markdown Formatting\n"
   ]
  },
  {
   "cell_type": "markdown",
   "metadata": {
    "id": "7DnHibFxJt2I"
   },
   "source": [
    "### Images"
   ]
  },
  {
   "cell_type": "markdown",
   "metadata": {
    "id": "zrU3VIPkJt2I"
   },
   "source": [
    "Did you know that the Jupyter Notebook team won the highest honor for a software system, the ACM Software System Award?"
   ]
  },
  {
   "cell_type": "markdown",
   "metadata": {
    "id": "PSYq-mSUJt2I"
   },
   "source": [
    "![image.png](attachment:e8fe737f-c301-41ec-a462-cf16cee3cbb7.png)"
   ]
  },
  {
   "cell_type": "markdown",
   "metadata": {
    "id": "H7HSgFIrJt2I"
   },
   "source": [
    "And did you know that you can add images to your notebook, like I did in the cell above? To do so, just copy your image on your computer, and paste it into a markdown cell. You'll see something like this:\n",
    "\n",
    "    ![image.png](attachment:e8fe737f-c301-41ec-a462-cf16cee3cbb7.png)\n",
    "\n",
    "When you execute the cell, you'll see the image appear."
   ]
  },
  {
   "cell_type": "markdown",
   "metadata": {
    "id": "Vy7gW0iSJt2I"
   },
   "source": [
    "### Italics, Bold, Strikethrough, Inline, Blockquotes and Links"
   ]
  },
  {
   "cell_type": "markdown",
   "metadata": {
    "id": "XfSfKtFjJt2I"
   },
   "source": [
    "The five most important concepts to format your code appropriately when using Markdown are:\n",
    "    \n",
    "- *Italics*:: Surround your text with \\_ or \\*.\n",
    "\n",
    "- **Bold**:: Surround your text with \\__ or \\**.\n",
    "\n",
    "- `inline`:: Surround your text with \\`.\n",
    "\n",
    "- blockquote:: Place \\> before your text.\n",
    "\n",
    "- [Links](http://course-v3.fast.ai/):: Surround the text you want to link with \\[\\] and place the link adjacent to the text, surrounded with ().\n",
    "\n"
   ]
  },
  {
   "cell_type": "markdown",
   "metadata": {
    "id": "yBLBaTiTJt2I"
   },
   "source": [
    "### Headings"
   ]
  },
  {
   "cell_type": "markdown",
   "metadata": {
    "id": "R2BcTHvjJt2J"
   },
   "source": [
    "Notice that including a hashtag before the text in a markdown cell makes the text a heading. The number of hashtags you include will determine the priority of the header (# is level one, ## is level two, ### is level three and #### is level four). We will add three new cells with the + button on the left to see how every level of heading looks.\n",
    "\n",
    "In the notebook, double click on some headings and find out what level they are!\n"
   ]
  },
  {
   "cell_type": "markdown",
   "metadata": {
    "id": "_D5m39_WJt2J"
   },
   "source": [
    "### Lists"
   ]
  },
  {
   "cell_type": "markdown",
   "metadata": {
    "id": "gprQ4sivJt2J"
   },
   "source": [
    "There are three types of lists in markdown.\n",
    "\n",
    "Ordered list:\n",
    "\n",
    "1. Step 1\n",
    "    2. Step 1B\n",
    "3. Step 3\n",
    "\n",
    "Unordered list\n",
    "\n",
    "* learning rate\n",
    "* cycle length\n",
    "* weight decay\n",
    "\n",
    "Task list\n",
    "\n",
    "- [x] Learn Jupyter Notebooks\n",
    "    - [x] Writing\n",
    "    - [x] Modes\n",
    "    - [x] Other Considerations\n",
    "- [ ] Change the world\n",
    "\n",
    "In the notebook, double click on them to see how they are built! \n"
   ]
  },
  {
   "cell_type": "markdown",
   "metadata": {
    "id": "QfKMHx-IJt2J"
   },
   "source": [
    "## Code Capabilities"
   ]
  },
  {
   "cell_type": "markdown",
   "metadata": {
    "id": "b0zh5JnGJt2J"
   },
   "source": [
    "**Code** cells are different than **Markdown** cells in that they have an output cell. This means that we can _keep_ the results of our code within the notebook and share them. Let's say we want to show a graph that explains the result of an experiment. We can just run the necessary cells and save the notebook. The output will be there when we open it again! Try it out by running the next two cells."
   ]
  },
  {
   "cell_type": "code",
   "execution_count": null,
   "metadata": {
    "execution": {
     "iopub.execute_input": "2022-04-24T20:17:26.204587Z",
     "iopub.status.busy": "2022-04-24T20:17:26.204129Z",
     "iopub.status.idle": "2022-04-24T20:17:26.210903Z",
     "shell.execute_reply": "2022-04-24T20:17:26.210032Z",
     "shell.execute_reply.started": "2022-04-24T20:17:26.204552Z"
    },
    "id": "qa838f1iJt2J"
   },
   "outputs": [],
   "source": [
    "a = 1\n",
    "b = a + 1\n",
    "c = b + a + 1\n",
    "d = c + b + a + 1\n",
    "a, b, c ,d"
   ]
  },
  {
   "cell_type": "code",
   "execution_count": null,
   "metadata": {
    "execution": {
     "iopub.execute_input": "2022-04-24T20:17:27.213767Z",
     "iopub.status.busy": "2022-04-24T20:17:27.213474Z",
     "iopub.status.idle": "2022-04-24T20:17:27.428066Z",
     "shell.execute_reply": "2022-04-24T20:17:27.426435Z",
     "shell.execute_reply.started": "2022-04-24T20:17:27.213738Z"
    },
    "id": "0LkYf2fdJt2J"
   },
   "outputs": [],
   "source": [
    "import matplotlib.pyplot as plt\n",
    "\n",
    "plt.plot([a,b,c,d])\n",
    "plt.show()"
   ]
  },
  {
   "cell_type": "markdown",
   "metadata": {
    "id": "rW_n7AgdJt2K"
   },
   "source": [
    "## Running Jupyter Locally"
   ]
  },
  {
   "cell_type": "markdown",
   "metadata": {
    "id": "WKwCVDs3Jt2K"
   },
   "source": [
    "This notebook is running inside Kaggle or a [GitHub Codespace](https://github.com/features/codespaces). You can also run notebooks inside other cloud environments such as [Colab](https://colab.research.google.com), [Sagemaker Studio Lab](https://studiolab.sagemaker.aws/), and [Paperspace Gradient](https://gradient.run/notebooks). Or you can run a Jupyter Notebook server from your local computer. What's more, if you have installed Anaconda you don't even need to install Jupyter (if not, just `pip install jupyter`).\n",
    "\n",
    "You just need to run `jupyter notebook` in your terminal. Remember to run it from a folder that contains all the folders/files you will want to access. You will be able to open, view, and edit files located within the directory in which you run this command but not files in parent directories.\n",
    "\n",
    "If a browser tab does not open automatically once you run the command, you should CTRL+CLICK the link starting with 'http://localhost:' and this will open a new tab in your default browser.\n"
   ]
  },
  {
   "cell_type": "markdown",
   "metadata": {
    "id": "0OqL0T9nJt2K"
   },
   "source": [
    "## Shortcuts and Tricks"
   ]
  },
  {
   "cell_type": "markdown",
   "metadata": {
    "id": "5RTmOWHKJt2K"
   },
   "source": [
    "Here is a list of useful tricks when in a Jupyter Notebook. Make sure you learn them early and use them as often as you can!\n"
   ]
  },
  {
   "cell_type": "markdown",
   "metadata": {
    "id": "mVACLBsQJt2K"
   },
   "source": [
    "### Command Mode Shortcuts"
   ]
  },
  {
   "cell_type": "markdown",
   "metadata": {
    "id": "3R362ddYJt2K"
   },
   "source": [
    "There are a couple of useful keyboard shortcuts in `Command Mode` that you can leverage to make Jupyter Notebook faster to use. Remember that you can switch back and forth between `Command Mode` and `Edit Mode` with <kbd>Esc</kbd> and <kbd>Enter</kbd>.\n",
    "\n",
    "- m:: Convert cell to Markdown\n",
    "- y:: Convert cell to Code\n",
    "- d+d:: Delete cell\n",
    "- o:: Toggle between hide or show output\n",
    "- Shift+Arrow up/Arrow down:: Select multiple cells. Once you have selected them you can operate on them like a batch (run, copy, paste etc).\n",
    "- Shift+M:: Merge selected cells\n"
   ]
  },
  {
   "cell_type": "markdown",
   "metadata": {
    "id": "6diqrv_EJt2K"
   },
   "source": [
    "### Cell Tricks"
   ]
  },
  {
   "cell_type": "markdown",
   "metadata": {
    "id": "nM5CAkGlJt2K"
   },
   "source": [
    "There are also some tricks that you can code into a cell:\n",
    "\n",
    "- `?function-name`:: Shows the definition and docstring for that function\n",
    "- `??function-name`:: Shows the source code for that function\n",
    "- `doc(function-name)`:: Shows the definition, docstring **and links to the documentation** of the function\n",
    "(only works with fastai library imported)\n",
    "- Shift+Tab (press once):: See which parameters to pass to a function \n",
    "- Shift+Tab (press three times):: Get additional information on the method\n",
    "\n",
    "Here's an example of using `?` to learn about Python's `print()` function:"
   ]
  },
  {
   "cell_type": "code",
   "execution_count": null,
   "metadata": {
    "execution": {
     "iopub.execute_input": "2022-04-24T20:19:08.469889Z",
     "iopub.status.busy": "2022-04-24T20:19:08.469088Z",
     "iopub.status.idle": "2022-04-24T20:19:08.474222Z",
     "shell.execute_reply": "2022-04-24T20:19:08.473469Z",
     "shell.execute_reply.started": "2022-04-24T20:19:08.469852Z"
    },
    "id": "SVicBJQUJt2K"
   },
   "outputs": [],
   "source": [
    "?print"
   ]
  },
  {
   "cell_type": "markdown",
   "metadata": {
    "id": "9UbRiApjJt2L"
   },
   "source": [
    "### Line Magics"
   ]
  },
  {
   "cell_type": "markdown",
   "metadata": {
    "id": "28SzOKYcJt2L"
   },
   "source": [
    "Line magics are functions that you can run on cells. They should be at the beginning of a line and take as an argument the rest of the line from where they are called. You call them by placing a '%' sign before the command. The most useful ones are:\n",
    "\n",
    "- `%matplotlib inline`:: Ensures that all matplotlib plots will be plotted in the output cell within the notebook and will be kept in the notebook when saved.\n",
    "\n",
    "This command is always called together at the beginning of every notebook of the fast.ai course.\n",
    "\n",
    "``` python\n",
    "%matplotlib inline\n",
    "```\n",
    "\n",
    "- `%timeit`:: Runs a line ten thousand times and displays the average time it took to run."
   ]
  },
  {
   "cell_type": "code",
   "execution_count": null,
   "metadata": {
    "execution": {
     "iopub.execute_input": "2022-04-24T20:10:13.839892Z",
     "iopub.status.busy": "2022-04-24T20:10:13.839549Z",
     "iopub.status.idle": "2022-04-24T20:10:18.121665Z",
     "shell.execute_reply": "2022-04-24T20:10:18.120991Z",
     "shell.execute_reply.started": "2022-04-24T20:10:13.839856Z"
    },
    "id": "fgEcZQxXJt2L"
   },
   "outputs": [],
   "source": [
    "%timeit [i+1 for i in range(1000)]"
   ]
  },
  {
   "cell_type": "markdown",
   "metadata": {
    "id": "-wUITP5OJt2L"
   },
   "source": [
    "`%debug`: Inspects a function which is showing an error using the [Python debugger](https://docs.python.org/3/library/pdb.html). If you type this in a cell just after an error, you will be directed to a console where you can inspect the values of all the variables.\n"
   ]
  },
  {
   "cell_type": "markdown",
   "metadata": {
    "id": "AOhBr2nWJt2L"
   },
   "source": [
    "## Thanks for reading!"
   ]
  },
  {
   "cell_type": "markdown",
   "metadata": {
    "id": "D2qJEGVYJt2L"
   },
   "source": [
    "If you found this notebook useful, I'd greatly appreciate an upvote (on my original notebook [here](https://www.kaggle.com/code/jhoward/jupyter-notebook-101), not on the copy you made of it!) Don't hesitate to add a comment if you have any questions or thoughts to add, or have your own favorite Jupyter tips."
   ]
  }
 ],
 "metadata": {
  "colab": {
   "provenance": []
  },
  "kernelspec": {
   "display_name": "default:Python",
   "language": "python",
   "name": "conda-env-default-py"
  },
  "language_info": {
   "codemirror_mode": {
    "name": "ipython",
    "version": 3
   },
   "file_extension": ".py",
   "mimetype": "text/x-python",
   "name": "python",
   "nbconvert_exporter": "python",
   "pygments_lexer": "ipython3",
   "version": "3.9.16"
  }
 },
 "nbformat": 4,
 "nbformat_minor": 4
}
